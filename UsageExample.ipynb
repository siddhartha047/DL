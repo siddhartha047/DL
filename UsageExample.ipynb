{
 "cells": [
  {
   "cell_type": "code",
   "execution_count": 10,
   "metadata": {},
   "outputs": [],
   "source": [
    "from sklearn.datasets import make_moons, make_circles\n",
    "import ipynb.fs.full.VAE as VAE"
   ]
  },
  {
   "cell_type": "markdown",
   "metadata": {},
   "source": [
    "#### Parameters\n",
    "```X``` - The feature\n",
    "\n",
    "```y``` - labels, not necessary only useful if used for visualization\n",
    "\n",
    "\n",
    "```dim``` - The output dimension of the transformed feature representation, change this accordingly\n",
    "\n",
    "```latent``` - Latent representation of the mean and variance of the disitribution\n",
    "\n",
    "```Hidden``` - Number of neurons in hidden layers\n",
    "\n",
    "```Iteration``` - How many iterations you want to run\n",
    "\n",
    "```visualize``` - Visualize encoder and latent representation\n"
   ]
  },
  {
   "cell_type": "markdown",
   "metadata": {},
   "source": [
    "## Usage Example 1"
   ]
  },
  {
   "cell_type": "code",
   "execution_count": 11,
   "metadata": {},
   "outputs": [
    {
     "name": "stdout",
     "output_type": "stream",
     "text": [
      "USING GPUS: -1\n"
     ]
    },
    {
     "name": "stderr",
     "output_type": "stream",
     "text": [
      "/home/das90/.conda/envs/cent7/5.3.1-py37/cs690_37/lib/python3.7/site-packages/pytorch_lightning/utilities/distributed.py:51: UserWarning: The dataloader, train dataloader, does not have many workers which may be a bottleneck. Consider increasing the value of the `num_workers` argument` (try 20 which is the number of cpus on this machine) in the `DataLoader` init to improve performance.\n",
      "  warnings.warn(*args, **kwargs)\n"
     ]
    },
    {
     "data": {
      "application/vnd.jupyter.widget-view+json": {
       "model_id": "61a3d0a1eaf242b3bfd26744a33ea6ed",
       "version_major": 2,
       "version_minor": 0
      },
      "text/plain": [
       "HBox(children=(FloatProgress(value=1.0, bar_style='info', description='Training', layout=Layout(flex='2'), max…"
      ]
     },
     "metadata": {},
     "output_type": "display_data"
    },
    {
     "name": "stdout",
     "output_type": "stream",
     "text": [
      "\n",
      "(100, 64)\n"
     ]
    }
   ],
   "source": [
    "X, y = make_circles(n_samples=100, noise=0.05)    \n",
    "    \n",
    "model = VAE.fit(X, dim=64, iteration=1000)\n",
    "\n",
    "X_t = VAE.transform(model, X)\n",
    "\n",
    "print(X_t.shape)    "
   ]
  },
  {
   "cell_type": "markdown",
   "metadata": {},
   "source": [
    "## Print Model"
   ]
  },
  {
   "cell_type": "code",
   "execution_count": 12,
   "metadata": {},
   "outputs": [
    {
     "name": "stdout",
     "output_type": "stream",
     "text": [
      "VAE(\n",
      "  (encoder): Sequential(\n",
      "    (0): Linear(in_features=2, out_features=256, bias=True)\n",
      "    (1): ReLU()\n",
      "    (2): Linear(in_features=256, out_features=64, bias=True)\n",
      "    (3): ReLU()\n",
      "  )\n",
      "  (fc_mu): Linear(in_features=64, out_features=32, bias=True)\n",
      "  (fc_var): Linear(in_features=64, out_features=32, bias=True)\n",
      "  (decoder): Sequential(\n",
      "    (0): Linear(in_features=32, out_features=256, bias=True)\n",
      "    (1): ReLU()\n",
      "    (2): Linear(in_features=256, out_features=2, bias=True)\n",
      "    (3): Tanh()\n",
      "  )\n",
      ")\n"
     ]
    }
   ],
   "source": [
    "print(model)"
   ]
  },
  {
   "cell_type": "markdown",
   "metadata": {},
   "source": [
    "## Usage Example 2"
   ]
  },
  {
   "cell_type": "code",
   "execution_count": 13,
   "metadata": {},
   "outputs": [
    {
     "name": "stdout",
     "output_type": "stream",
     "text": [
      "USING GPUS: -1\n"
     ]
    },
    {
     "data": {
      "application/vnd.jupyter.widget-view+json": {
       "model_id": "81315e49c8724bde95891936a14a3214",
       "version_major": 2,
       "version_minor": 0
      },
      "text/plain": [
       "HBox(children=(FloatProgress(value=1.0, bar_style='info', description='Training', layout=Layout(flex='2'), max…"
      ]
     },
     "metadata": {},
     "output_type": "display_data"
    },
    {
     "name": "stdout",
     "output_type": "stream",
     "text": [
      "\n",
      "(100, 64)\n"
     ]
    }
   ],
   "source": [
    "X, y = make_circles(n_samples=100, noise=0.05)    \n",
    "    \n",
    "model=VAE.fit(X, y, dim=64, latent=32, hidden=256, iteration=1000, visualize=False)\n",
    "X_t=VAE.transform(model, X)\n",
    "\n",
    "print(X_t.shape)   "
   ]
  },
  {
   "cell_type": "markdown",
   "metadata": {},
   "source": [
    "## Usage Example 3"
   ]
  },
  {
   "cell_type": "code",
   "execution_count": 14,
   "metadata": {},
   "outputs": [
    {
     "name": "stdout",
     "output_type": "stream",
     "text": [
      "USING GPUS: -1\n"
     ]
    },
    {
     "data": {
      "application/vnd.jupyter.widget-view+json": {
       "model_id": "f29a89038e4a4c75b7635c533a6ca718",
       "version_major": 2,
       "version_minor": 0
      },
      "text/plain": [
       "HBox(children=(FloatProgress(value=1.0, bar_style='info', description='Training', layout=Layout(flex='2'), max…"
      ]
     },
     "metadata": {},
     "output_type": "display_data"
    },
    {
     "name": "stdout",
     "output_type": "stream",
     "text": [
      "\n",
      "(100, 64)\n"
     ]
    }
   ],
   "source": [
    "X, y = make_circles(n_samples=100, noise=0.05)    \n",
    "    \n",
    "model=VAE.fit(X, y, dim=64, latent=32, hidden=256, iteration=1000, visualize=True)\n",
    "\n",
    "X_t = VAE.transform(model, X)\n",
    "\n",
    "print(X_t.shape)   "
   ]
  }
 ],
 "metadata": {
  "kernelspec": {
   "display_name": "Conda cs690_37",
   "language": "python",
   "name": "cs690_37"
  },
  "language_info": {
   "codemirror_mode": {
    "name": "ipython",
    "version": 3
   },
   "file_extension": ".py",
   "mimetype": "text/x-python",
   "name": "python",
   "nbconvert_exporter": "python",
   "pygments_lexer": "ipython3",
   "version": "3.7.6"
  }
 },
 "nbformat": 4,
 "nbformat_minor": 2
}
