{
 "cells": [
  {
   "cell_type": "markdown",
   "metadata": {},
   "source": [
    "## Packages"
   ]
  },
  {
   "cell_type": "code",
   "execution_count": 15,
   "metadata": {},
   "outputs": [],
   "source": [
    "from sklearn.datasets import make_moons, make_circles\n",
    "from pandas import DataFrame\n",
    "import matplotlib.pyplot as plt\n",
    "\n",
    "import os\n",
    "from argparse import ArgumentParser\n",
    "\n",
    "import pytorch_lightning as pl\n",
    "import torch\n",
    "from torch import nn as nn\n",
    "from torch.nn import functional as F\n",
    "\n",
    "from torch.utils.data import Dataset, TensorDataset, DataLoader, RandomSampler, SequentialSampler\n",
    "import multiprocessing\n",
    "\n",
    "from sklearn.manifold import TSNE\n",
    "\n",
    "import numpy as np\n",
    "import logging"
   ]
  },
  {
   "cell_type": "markdown",
   "metadata": {},
   "source": [
    "## Directory to Save Information"
   ]
  },
  {
   "cell_type": "code",
   "execution_count": 16,
   "metadata": {},
   "outputs": [],
   "source": [
    "DIR='.' #save in current directory"
   ]
  },
  {
   "cell_type": "markdown",
   "metadata": {},
   "source": [
    "## Test for GPUs"
   ]
  },
  {
   "cell_type": "code",
   "execution_count": 17,
   "metadata": {},
   "outputs": [
    {
     "name": "stdout",
     "output_type": "stream",
     "text": [
      "There are 2 GPU(s) available.\n",
      "We will use the GPU: Tesla P100-PCIE-16GB\n",
      "cuda\n",
      "Cpu count:  20\n"
     ]
    }
   ],
   "source": [
    "NUM_GPUS=0\n",
    "try:\n",
    "    if torch.cuda.is_available():  \n",
    "        device = torch.device(\"cuda\")\n",
    "        NUM_GPUS=torch.cuda.device_count()\n",
    "        print('There are %d GPU(s) available.' % NUM_GPUS)\n",
    "        print('We will use the GPU:', torch.cuda.get_device_name())# If not...\n",
    "    else:\n",
    "        print('No GPU available, using the CPU instead.')\n",
    "        device = torch.device(\"cpu\")  \n",
    "except:\n",
    "    print('Cuda error using CPU instead.')\n",
    "    device = torch.device(\"cpu\")  \n",
    "    \n",
    "print(device)\n",
    "\n",
    "NUM_PROCESSORS=multiprocessing.cpu_count()\n",
    "print(\"Cpu count: \",NUM_PROCESSORS)"
   ]
  },
  {
   "cell_type": "code",
   "execution_count": 18,
   "metadata": {},
   "outputs": [],
   "source": [
    "def plotData(X, y):    \n",
    "    df = DataFrame(dict(x1=X[:,0], x2=X[:,1], label=y))\n",
    "    grouped = df.groupby('label')\n",
    "\n",
    "    colors = [\"red\", \"blue\"]\n",
    "    labels = [\"x1\", \"x2\"]\n",
    "    fig, ax = plt.subplots()\n",
    "    for key, group in grouped:\n",
    "        group.plot(ax=ax, kind='scatter', x='x1', y='x2', label=labels[key], color=colors[key])\n",
    "    plt.show()"
   ]
  },
  {
   "cell_type": "code",
   "execution_count": 19,
   "metadata": {},
   "outputs": [],
   "source": [
    "class DataProcessing(pl.LightningDataModule):\n",
    "    def __init__(self, *args, **kwargs):\n",
    "        super().__init__()\n",
    "\n",
    "        #self.save_hyperparameters()\n",
    "        if isinstance(args, tuple): args = args[0]\n",
    "        self.hparams = args\n",
    "        self.batch_size=self.hparams.batch_size    \n",
    "    \n",
    "    def setup(self, stage=None, X=None, y=None):\n",
    "        \n",
    "        if X is not None:\n",
    "            self.X=X            \n",
    "            if y is None:\n",
    "                self.y=np.zeros(len(X),dtype=np.long)\n",
    "            else:\n",
    "                self.y=y\n",
    "        \n",
    "        elif self.hparams.dataset == \"make_moons\":             \n",
    "            self.X, self.y = make_moons(n_samples=100, noise=0.1)\n",
    "        \n",
    "        elif self.hparams.dataset == \"circles\":\n",
    "            self.X, self.y = make_circles(n_samples=100, noise=0.05)\n",
    "            \n",
    "        else:\n",
    "            raise ValueError(f\"undefined dataset {self.hparams.dataset}\")\n",
    "        \n",
    "        \n",
    "        self.feature=torch.tensor(self.X,dtype=torch.float)\n",
    "        self.labels=torch.tensor(self.y,dtype=torch.long)\n",
    "        \n",
    "        self.dataset=TensorDataset(self.feature, self.labels)\n",
    "\n",
    "    def train_dataloader(self,use_collator=True):\n",
    "        \n",
    "        train_sampler = RandomSampler(self.dataset)        \n",
    "        \n",
    "        loader = DataLoader(\n",
    "            self.dataset,\n",
    "            sampler=train_sampler, \n",
    "            batch_size=self.batch_size,\n",
    "            pin_memory=True,\n",
    "            #num_workers=min(NUM_PROCESSORS,self.batch_size,NUM_GPUS*4)\n",
    "        )\n",
    "        \n",
    "        return loader"
   ]
  },
  {
   "cell_type": "markdown",
   "metadata": {},
   "source": [
    "## Variational Auto Encoder Decoder"
   ]
  },
  {
   "cell_type": "code",
   "execution_count": 20,
   "metadata": {},
   "outputs": [],
   "source": [
    "class VAE(pl.LightningModule):\n",
    "\n",
    "    def __init__(self, *args, **kwargs):\n",
    "        super().__init__()\n",
    "\n",
    "        self.save_hyperparameters()\n",
    "        \n",
    "        self.latent_dim=self.hparams.latent_dim        \n",
    "        self.enc_out_dim=self.hparams.encoder_dim\n",
    "        self.input_dim=self.hparams.input_dim\n",
    "        self.hidden_dim=self.hparams.hidden_dim\n",
    "        \n",
    "#         self.input_dim=2\n",
    "#         self.enc_out_dim=64       \n",
    "#         self.latent_dim=2 \n",
    "#         self.hidden_dim=256\n",
    "        \n",
    "        self.lr=self.hparams.lr\n",
    "        \n",
    "            \n",
    "\n",
    "\n",
    "        #self.kl_coeff=self.hparams.kl_coeff\n",
    "        self.kl_coeff=0.0\n",
    "        \n",
    "\n",
    "        self.encoder=nn.Sequential(\n",
    "            nn.Linear(self.input_dim, self.hidden_dim),\n",
    "            nn.ReLU(),\n",
    "            nn.Linear(self.hidden_dim, self.enc_out_dim),\n",
    "            nn.ReLU(),\n",
    "        )\n",
    "        \n",
    "        self.fc_mu = nn.Linear(self.enc_out_dim, self.latent_dim)\n",
    "        self.fc_var = nn.Linear(self.enc_out_dim, self.latent_dim)\n",
    "        \n",
    "        self.decoder=nn.Sequential(\n",
    "            nn.Linear(self.latent_dim, self.hidden_dim),\n",
    "            nn.ReLU(),\n",
    "            nn.Linear(self.hidden_dim, self.input_dim),\n",
    "            nn.Tanh()\n",
    "        )\n",
    "        \n",
    "\n",
    "    def forward(self, x):\n",
    "        x = self.encoder(x)\n",
    "        mu = self.fc_mu(x)\n",
    "        log_var = self.fc_var(x)\n",
    "        p, q, z = self.sample(mu, log_var)\n",
    "        return self.decoder(z)\n",
    "\n",
    "    def _run_step(self, x):\n",
    "        x = self.encoder(x)\n",
    "        mu = self.fc_mu(x)\n",
    "        log_var = self.fc_var(x)\n",
    "        p, q, z = self.sample(mu, log_var)\n",
    "        return z, self.decoder(z), p, q\n",
    "\n",
    "    def sample(self, mu, log_var):\n",
    "        std = torch.exp(log_var / 2)\n",
    "        p = torch.distributions.Normal(torch.zeros_like(mu), torch.ones_like(std))\n",
    "        q = torch.distributions.Normal(mu, std)\n",
    "        z = q.rsample()\n",
    "        return p, q, z\n",
    "\n",
    "    def step(self, batch, batch_idx):\n",
    "        x, y = batch\n",
    "        z, x_hat, p, q = self._run_step(x)\n",
    "\n",
    "        recon_loss = F.mse_loss(x_hat, x, reduction='mean')\n",
    "\n",
    "        log_qz = q.log_prob(z)\n",
    "        log_pz = p.log_prob(z)\n",
    "\n",
    "        kl = log_qz - log_pz\n",
    "        kl = kl.mean()\n",
    "        kl *= self.kl_coeff\n",
    "\n",
    "        loss = kl + recon_loss\n",
    "\n",
    "        logs = {\n",
    "            \"recon_loss\": recon_loss,\n",
    "            \"kl\": kl,\n",
    "            \"loss\": loss,\n",
    "        }\n",
    "        return loss, logs\n",
    "\n",
    "    def training_step(self, batch, batch_idx):\n",
    "        loss, logs = self.step(batch, batch_idx)\n",
    "        self.log_dict({f\"train_{k}\": v for k, v in logs.items()}, on_step=True, on_epoch=False)\n",
    "        return loss\n",
    "\n",
    "    def configure_optimizers(self):\n",
    "        return torch.optim.Adam(self.parameters(), lr=self.lr)"
   ]
  },
  {
   "cell_type": "code",
   "execution_count": 21,
   "metadata": {},
   "outputs": [],
   "source": [
    "def getArgs(X=None, y=None, encoder_dim=64, latent=32, hidden=256, iteration=1000, args=None):\n",
    "    \n",
    "    pl.seed_everything(0)\n",
    "    parser = ArgumentParser()\n",
    "    parser.add_argument(\"--dataset\", default=\"circles\", type=str, choices=[\"make_moons\",\"circles\"])\n",
    "    parser.add_argument(\"--lr\", type=float, default=1e-3)\n",
    "    parser.add_argument(\"--kl_coeff\", type=float, default=0.1)    \n",
    "    parser.add_argument(\"--latent_dim\", type=int, default=latent)\n",
    "    parser.add_argument(\"--hidden_dim\", type=int, default=hidden)\n",
    "    parser.add_argument(\"--encoder_dim\", type=int, default=encoder_dim)\n",
    "    parser.add_argument(\"--batch_size\", type=int, default=128)\n",
    "    parser.add_argument('--epochs', type=int, default=iteration)\n",
    "    parser.add_argument('--num_gpus', type=int, default=-1)\n",
    "    parser.add_argument('--nodes', type=int, default=1)\n",
    "    parser.add_argument('--parallel_mode', type=str, default=\"dp\", choices=['dp', 'ddp', 'ddp2'])\n",
    "    parser.add_argument('--refresh_rate', type=int, default=1)\n",
    "    \n",
    "    parser.add_argument('-f') ##dummy for jupyternotebook\n",
    "    \n",
    "    script_args, _ = parser.parse_known_args(args)    \n",
    "    parser = pl.Trainer.add_argparse_args(parser)\n",
    "    args = parser.parse_args(args)\n",
    "\n",
    "\n",
    "    dm = DataProcessing(args)\n",
    "    dm.setup(X=X, y=y)\n",
    "    \n",
    "    gpus=-1\n",
    "    if NUM_GPUS>0:\n",
    "        gpus=args.num_gpus\n",
    "        print(\"USING GPUS:\", gpus)\n",
    "    else:\n",
    "        gpus=None\n",
    "        args.parallel_mode=None\n",
    "        \n",
    "    args.checkpoint_callback = False    \n",
    "    trainer = pl.Trainer.from_argparse_args(args, \n",
    "                                            gpus=gpus,\n",
    "                                            num_nodes=args.nodes, \n",
    "                                            accelerator=args.parallel_mode,\n",
    "                                            max_epochs=args.epochs, \n",
    "                                            gradient_clip_val=1.0,                                            \n",
    "                                            logger=False,\n",
    "                                            progress_bar_refresh_rate=args.refresh_rate,\n",
    "                                            profiler=False,\n",
    "                                            default_root_dir=DIR,                                            \n",
    "                                            deterministic=True,\n",
    "                                           )\n",
    "    \n",
    "    return trainer, dm, args"
   ]
  },
  {
   "cell_type": "code",
   "execution_count": 22,
   "metadata": {},
   "outputs": [],
   "source": [
    "from sklearn.neighbors import kneighbors_graph\n",
    "import scipy as sp\n",
    "\n",
    "def crossingEdges(X, y, k=5):\n",
    "    A=kneighbors_graph(X, n_neighbors=k, mode='connectivity')\n",
    "    cx = sp.sparse.coo_matrix(A)\n",
    "    \n",
    "    total=0\n",
    "    incorrect=0\n",
    "\n",
    "    for i,j,v in zip(cx.row, cx.col, cx.data):\n",
    "        total+=1\n",
    "        if y[i]!=y[j]:\n",
    "            incorrect+=1\n",
    "    \n",
    "    print(\"Edges: \", total)\n",
    "    print(\"Incorrect: \",incorrect)\n",
    "    \n",
    "#crossingEdges(dm.X, dm.y)"
   ]
  },
  {
   "cell_type": "code",
   "execution_count": 23,
   "metadata": {},
   "outputs": [],
   "source": [
    "def VisualizeTransformation(model, trainer, dm):\n",
    "    print(\"Before transformation: \")\n",
    "    crossingEdges(dm.X, dm.y)\n",
    "    plotData(dm.X, dm.y)\n",
    "\n",
    "    \n",
    "    print(\"After transformation\")    \n",
    "    X_t=None\n",
    "    with torch.no_grad():\n",
    "        X_t=model.encoder(dm.feature)\n",
    "        \n",
    "        X_embed=X_t\n",
    "        X_embed=X_embed.detach().cpu().numpy()\n",
    "        \n",
    "        print(\"Encoder\")\n",
    "        crossingEdges(X_embed, dm.y)\n",
    "        \n",
    "        if (X_t.shape[1]>2):\n",
    "            print(\"Applying TSNE\")\n",
    "            \n",
    "            X_embed = TSNE(n_components=2, perplexity=30).fit_transform(X_embed)\n",
    "        \n",
    "        plotData(X_embed, dm.y)\n",
    "        \n",
    "        \n",
    "        mu = model.fc_mu(X_t)\n",
    "        log_var = model.fc_var(X_t)\n",
    "        p, q, z = model.sample(mu, log_var)        \n",
    "        \n",
    "        X_t=z\n",
    "\n",
    "        X_t=X_t.detach().cpu().numpy()\n",
    "        \n",
    "        print(\"latent\")\n",
    "        crossingEdges(X_t, dm.y)\n",
    "        \n",
    "        if (X_t.shape[1]>2):\n",
    "            print(\"Applying TSNE\")\n",
    "            X_t = TSNE(n_components=2,perplexity=30).fit_transform(X_t)\n",
    "    \n",
    "    \n",
    "    plotData(X_t, dm.y)\n",
    "    \n",
    "#VisualizeTransformation(model, trainer, dm)"
   ]
  },
  {
   "cell_type": "code",
   "execution_count": 24,
   "metadata": {},
   "outputs": [],
   "source": [
    "def fit(X, y=None, dim=64, latent=32, hidden=256, iteration=1000, visualize=False):\n",
    "    \n",
    "    if visualize==False:\n",
    "        logging.getLogger('lightning').setLevel(0)        \n",
    "    else:\n",
    "        logging.getLogger('lightning').setLevel(4)\n",
    "    \n",
    "    trainer, dm, args = getArgs(X,y,encoder_dim=dim, iteration=iteration, latent=latent, hidden=hidden)\n",
    "    args.input_dim=X.shape[1]\n",
    "    \n",
    "    model = VAE(**vars(args))            \n",
    "    trainer.fit(model, datamodule=dm)\n",
    "    \n",
    "    if visualize==True:\n",
    "        print(model)\n",
    "        VisualizeTransformation(model, trainer, dm)\n",
    "    \n",
    "    return model\n",
    "    \n",
    "    \n",
    "def transform(model, X):    \n",
    "    X=torch.Tensor(X)\n",
    "    \n",
    "    X_t=None\n",
    "    with torch.no_grad():\n",
    "        X_t=model.encoder(X)\n",
    "        X_t=X_t.detach().cpu().numpy()\n",
    "        \n",
    "    return X_t"
   ]
  },
  {
   "cell_type": "code",
   "execution_count": 25,
   "metadata": {},
   "outputs": [
    {
     "name": "stderr",
     "output_type": "stream",
     "text": [
      "Global seed set to 0\n",
      "GPU available: True, used: True\n",
      "TPU available: None, using: 0 TPU cores\n",
      "Set SLURM handle signals.\n",
      "\n",
      "  | Name    | Type       | Params\n",
      "---------------------------------------\n",
      "0 | encoder | Sequential | 17.2 K\n",
      "1 | fc_mu   | Linear     | 2.1 K \n",
      "2 | fc_var  | Linear     | 2.1 K \n",
      "3 | decoder | Sequential | 9.0 K \n",
      "---------------------------------------\n",
      "30.3 K    Trainable params\n",
      "0         Non-trainable params\n",
      "30.3 K    Total params\n",
      "0.121     Total estimated model params size (MB)\n"
     ]
    },
    {
     "name": "stdout",
     "output_type": "stream",
     "text": [
      "USING GPUS: -1\n"
     ]
    },
    {
     "name": "stderr",
     "output_type": "stream",
     "text": [
      "/home/das90/.conda/envs/cent7/5.3.1-py37/cs690_37/lib/python3.7/site-packages/pytorch_lightning/utilities/distributed.py:51: UserWarning: The dataloader, train dataloader, does not have many workers which may be a bottleneck. Consider increasing the value of the `num_workers` argument` (try 20 which is the number of cpus on this machine) in the `DataLoader` init to improve performance.\n",
      "  warnings.warn(*args, **kwargs)\n"
     ]
    },
    {
     "data": {
      "application/vnd.jupyter.widget-view+json": {
       "model_id": "2f1934189837488a9321e1c62f54f1e8",
       "version_major": 2,
       "version_minor": 0
      },
      "text/plain": [
       "HBox(children=(FloatProgress(value=1.0, bar_style='info', description='Training', layout=Layout(flex='2'), max…"
      ]
     },
     "metadata": {},
     "output_type": "display_data"
    },
    {
     "name": "stdout",
     "output_type": "stream",
     "text": [
      "\n",
      "VAE(\n",
      "  (encoder): Sequential(\n",
      "    (0): Linear(in_features=2, out_features=256, bias=True)\n",
      "    (1): ReLU()\n",
      "    (2): Linear(in_features=256, out_features=64, bias=True)\n",
      "    (3): ReLU()\n",
      "  )\n",
      "  (fc_mu): Linear(in_features=64, out_features=32, bias=True)\n",
      "  (fc_var): Linear(in_features=64, out_features=32, bias=True)\n",
      "  (decoder): Sequential(\n",
      "    (0): Linear(in_features=32, out_features=256, bias=True)\n",
      "    (1): ReLU()\n",
      "    (2): Linear(in_features=256, out_features=2, bias=True)\n",
      "    (3): Tanh()\n",
      "  )\n",
      ")\n",
      "Before transformation: \n",
      "Edges:  500\n",
      "Incorrect:  187\n"
     ]
    },
    {
     "data": {
      "image/png": "[encoded data removed]",
      "text/plain": [
       "<Figure size 432x288 with 1 Axes>"
      ]
     },
     "metadata": {
      "needs_background": "light"
     },
     "output_type": "display_data"
    },
    {
     "name": "stdout",
     "output_type": "stream",
     "text": [
      "After transformation\n",
      "Encoder\n",
      "Edges:  500\n",
      "Incorrect:  109\n",
      "Applying TSNE\n"
     ]
    },
    {
     "data": {
      "image/png": "[encoded data removed]",
      "text/plain": [
       "<Figure size 432x288 with 1 Axes>"
      ]
     },
     "metadata": {
      "needs_background": "light"
     },
     "output_type": "display_data"
    },
    {
     "name": "stdout",
     "output_type": "stream",
     "text": [
      "latent\n",
      "Edges:  500\n",
      "Incorrect:  123\n",
      "Applying TSNE\n"
     ]
    },
    {
     "data": {
      "image/png": "[encoded data removed]",
      "text/plain": [
       "<Figure size 432x288 with 1 Axes>"
      ]
     },
     "metadata": {
      "needs_background": "light"
     },
     "output_type": "display_data"
    },
    {
     "name": "stdout",
     "output_type": "stream",
     "text": [
      "(100, 64)\n"
     ]
    }
   ],
   "source": [
    "if __name__ == \"__main__\":  \n",
    "    X, y = make_circles(n_samples=100, noise=0.05)    \n",
    "    \n",
    "    model=fit(X, y, dim=64, latent=32, hidden=256, iteration=1000, visualize=True)\n",
    "    X_t=transform(model, X)\n",
    "    \n",
    "    print(X_t.shape)"
   ]
  },
  {
   "cell_type": "code",
   "execution_count": null,
   "metadata": {},
   "outputs": [],
   "source": []
  }
 ],
 "metadata": {
  "kernelspec": {
   "display_name": "Python 3",
   "language": "python",
   "name": "python3"
  },
  "language_info": {
   "codemirror_mode": {
    "name": "ipython",
    "version": 3
   },
   "file_extension": ".py",
   "mimetype": "text/x-python",
   "name": "python",
   "nbconvert_exporter": "python",
   "pygments_lexer": "ipython3",
   "version": "3.7.9"
  },
  "varInspector": {
   "cols": {
    "lenName": 16,
    "lenType": 16,
    "lenVar": 40
   },
   "kernels_config": {
    "python": {
     "delete_cmd_postfix": "",
     "delete_cmd_prefix": "del ",
     "library": "var_list.py",
     "varRefreshCmd": "print(var_dic_list())"
    },
    "r": {
     "delete_cmd_postfix": ") ",
     "delete_cmd_prefix": "rm(",
     "library": "var_list.r",
     "varRefreshCmd": "cat(var_dic_list()) "
    }
   },
   "types_to_exclude": [
    "module",
    "function",
    "builtin_function_or_method",
    "instance",
    "_Feature"
   ],
   "window_display": false
  }
 },
 "nbformat": 4,
 "nbformat_minor": 2
}
