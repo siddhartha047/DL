{
 "cells": [
  {
   "cell_type": "markdown",
   "metadata": {},
   "source": [
    "## Packages"
   ]
  },
  {
   "cell_type": "code",
   "execution_count": 1451,
   "metadata": {},
   "outputs": [],
   "source": [
    "from sklearn.datasets import make_moons, make_circles\n",
    "from pandas import DataFrame\n",
    "import matplotlib.pyplot as plt\n",
    "\n",
    "import os\n",
    "from argparse import ArgumentParser\n",
    "\n",
    "import pytorch_lightning as pl\n",
    "import torch\n",
    "from torch import nn as nn\n",
    "from torch.nn import functional as F\n",
    "\n",
    "from torch.utils.data import Dataset, TensorDataset, DataLoader, RandomSampler, SequentialSampler\n",
    "import multiprocessing\n",
    "\n",
    "\n",
    "from sklearn.manifold import TSNE"
   ]
  },
  {
   "cell_type": "markdown",
   "metadata": {},
   "source": [
    "## Directory to Save Information"
   ]
  },
  {
   "cell_type": "code",
   "execution_count": 1452,
   "metadata": {},
   "outputs": [],
   "source": [
    "DIR='.' #save in current directory"
   ]
  },
  {
   "cell_type": "markdown",
   "metadata": {},
   "source": [
    "## Test for GPUs"
   ]
  },
  {
   "cell_type": "code",
   "execution_count": 1453,
   "metadata": {},
   "outputs": [
    {
     "name": "stdout",
     "output_type": "stream",
     "text": [
      "There are 2 GPU(s) available.\n",
      "We will use the GPU: Tesla P100-PCIE-16GB\n",
      "cuda\n",
      "Cpu count:  24\n"
     ]
    }
   ],
   "source": [
    "NUM_GPUS=0\n",
    "try:\n",
    "    if torch.cuda.is_available():  \n",
    "        device = torch.device(\"cuda\")\n",
    "        NUM_GPUS=torch.cuda.device_count()\n",
    "        print('There are %d GPU(s) available.' % NUM_GPUS)\n",
    "        print('We will use the GPU:', torch.cuda.get_device_name())# If not...\n",
    "    else:\n",
    "        print('No GPU available, using the CPU instead.')\n",
    "        device = torch.device(\"cpu\")  \n",
    "except:\n",
    "    print('Cuda error using CPU instead.')\n",
    "    device = torch.device(\"cpu\")  \n",
    "    \n",
    "print(device)\n",
    "\n",
    "NUM_PROCESSORS=multiprocessing.cpu_count()\n",
    "print(\"Cpu count: \",NUM_PROCESSORS)"
   ]
  },
  {
   "cell_type": "code",
   "execution_count": 1454,
   "metadata": {},
   "outputs": [],
   "source": [
    "def plotData(X, y):    \n",
    "    df = DataFrame(dict(x1=X[:,0], x2=X[:,1], label=y))\n",
    "    grouped = df.groupby('label')\n",
    "\n",
    "    colors = [\"red\", \"blue\"]\n",
    "    labels = [\"x1\", \"x2\"]\n",
    "    fig, ax = plt.subplots()\n",
    "    for key, group in grouped:\n",
    "        group.plot(ax=ax, kind='scatter', x='x1', y='x2', label=labels[key], color=colors[key])\n",
    "    plt.show()"
   ]
  },
  {
   "cell_type": "code",
   "execution_count": 1455,
   "metadata": {},
   "outputs": [],
   "source": [
    "# X, y = make_moons(n_samples=100, noise=0.1)\n",
    "# plotData(X,y)"
   ]
  },
  {
   "cell_type": "code",
   "execution_count": 1456,
   "metadata": {},
   "outputs": [],
   "source": [
    "class DataProcessing(pl.LightningDataModule):\n",
    "    def __init__(self, *args, **kwargs):\n",
    "        super().__init__()\n",
    "\n",
    "        #self.save_hyperparameters()\n",
    "        if isinstance(args, tuple): args = args[0]\n",
    "        self.hparams = args\n",
    "        self.batch_size=self.hparams.batch_size    \n",
    "    \n",
    "    def setup(self, stage=None):\n",
    "        if self.hparams.dataset == \"make_moons\":             \n",
    "            self.X, self.y = make_moons(n_samples=100, noise=0.1)\n",
    "        \n",
    "        elif self.hparams.dataset == \"circles\":\n",
    "            self.X, self.y = make_circles(n_samples=100, noise=0.05)\n",
    "            \n",
    "        else:\n",
    "            raise ValueError(f\"undefined dataset {self.hparams.dataset}\")\n",
    "        \n",
    "        \n",
    "        self.feature=torch.tensor(self.X,dtype=torch.float)\n",
    "        self.labels=torch.tensor(self.y,dtype=torch.long)\n",
    "        \n",
    "        self.dataset=TensorDataset(self.feature, self.labels)\n",
    "\n",
    "    def train_dataloader(self,use_collator=True):\n",
    "        \n",
    "        train_sampler = RandomSampler(self.dataset)        \n",
    "        \n",
    "        loader = DataLoader(\n",
    "            self.dataset,\n",
    "            sampler=train_sampler, \n",
    "            batch_size=self.batch_size,\n",
    "            pin_memory=True,\n",
    "            #num_workers=min(NUM_PROCESSORS,self.batch_size,NUM_GPUS*4)\n",
    "        )\n",
    "        \n",
    "        return loader"
   ]
  },
  {
   "cell_type": "markdown",
   "metadata": {},
   "source": [
    "## Variational Auto Encoder Decoder"
   ]
  },
  {
   "cell_type": "code",
   "execution_count": 1457,
   "metadata": {},
   "outputs": [],
   "source": [
    "class VAE(pl.LightningModule):\n",
    "\n",
    "    def __init__(self, *args, **kwargs):\n",
    "        super().__init__()\n",
    "\n",
    "        self.save_hyperparameters()\n",
    "        #self.latent_dim=self.hparams.latent_dim        \n",
    "        #self.kl_coeff=self.hparams.kl_coeff\n",
    "        self.lr=self.hparams.lr\n",
    "        \n",
    "        hidden=128        \n",
    "        self.enc_out_dim=64       \n",
    "        self.latent_dim=2    \n",
    "        self.kl_coeff=0.0\n",
    "        \n",
    "\n",
    "        self.encoder=nn.Sequential(\n",
    "            nn.Linear(2, hidden),\n",
    "            nn.ReLU(),\n",
    "            nn.Linear(hidden, self.enc_out_dim),\n",
    "            nn.ReLU(),\n",
    "        )\n",
    "        \n",
    "        self.fc_mu = nn.Linear(self.enc_out_dim, self.latent_dim)\n",
    "        self.fc_var = nn.Linear(self.enc_out_dim, self.latent_dim)\n",
    "        \n",
    "        self.decoder=nn.Sequential(\n",
    "            nn.Linear(self.latent_dim, hidden),\n",
    "            nn.ReLU(),\n",
    "            nn.Linear(hidden, 2),\n",
    "            nn.Tanh()\n",
    "        )\n",
    "        \n",
    "\n",
    "    def forward(self, x):\n",
    "        x = self.encoder(x)\n",
    "        mu = self.fc_mu(x)\n",
    "        log_var = self.fc_var(x)\n",
    "        p, q, z = self.sample(mu, log_var)\n",
    "        return self.decoder(z)\n",
    "\n",
    "    def _run_step(self, x):\n",
    "        x = self.encoder(x)\n",
    "        mu = self.fc_mu(x)\n",
    "        log_var = self.fc_var(x)\n",
    "        p, q, z = self.sample(mu, log_var)\n",
    "        return z, self.decoder(z), p, q\n",
    "\n",
    "    def sample(self, mu, log_var):\n",
    "        std = torch.exp(log_var / 2)\n",
    "        p = torch.distributions.Normal(torch.zeros_like(mu), torch.ones_like(std))\n",
    "        q = torch.distributions.Normal(mu, std)\n",
    "        z = q.rsample()\n",
    "        return p, q, z\n",
    "\n",
    "    def step(self, batch, batch_idx):\n",
    "        x, y = batch\n",
    "        z, x_hat, p, q = self._run_step(x)\n",
    "\n",
    "        recon_loss = F.mse_loss(x_hat, x, reduction='mean')\n",
    "\n",
    "        log_qz = q.log_prob(z)\n",
    "        log_pz = p.log_prob(z)\n",
    "\n",
    "        kl = log_qz - log_pz\n",
    "        kl = kl.mean()\n",
    "        kl *= self.kl_coeff\n",
    "\n",
    "        loss = kl + recon_loss\n",
    "\n",
    "        logs = {\n",
    "            \"recon_loss\": recon_loss,\n",
    "            \"kl\": kl,\n",
    "            \"loss\": loss,\n",
    "        }\n",
    "        return loss, logs\n",
    "\n",
    "    def training_step(self, batch, batch_idx):\n",
    "        loss, logs = self.step(batch, batch_idx)\n",
    "        self.log_dict({f\"train_{k}\": v for k, v in logs.items()}, on_step=True, on_epoch=False)\n",
    "        return loss\n",
    "\n",
    "    def validation_step(self, batch, batch_idx):\n",
    "        loss, logs = self.step(batch, batch_idx)\n",
    "        self.log_dict({f\"val_{k}\": v for k, v in logs.items()})\n",
    "        return loss\n",
    "\n",
    "    def configure_optimizers(self):\n",
    "        return torch.optim.Adam(self.parameters(), lr=self.lr)"
   ]
  },
  {
   "cell_type": "code",
   "execution_count": 1458,
   "metadata": {},
   "outputs": [],
   "source": [
    "def cli_main(args=None):\n",
    "    pl.seed_everything()\n",
    "    parser = ArgumentParser()\n",
    "    parser.add_argument(\"--dataset\", default=\"circles\", type=str, choices=[\"make_moons\",\"circles\"])\n",
    "    parser.add_argument(\"--lr\", type=float, default=1e-3)\n",
    "    parser.add_argument(\"--kl_coeff\", type=float, default=0.1)\n",
    "    parser.add_argument(\"--latent_dim\", type=int, default=2)\n",
    "    parser.add_argument(\"--batch_size\", type=int, default=128)\n",
    "    parser.add_argument('--epochs', type=int, default=1000)\n",
    "    parser.add_argument('--num_gpus', type=int, default=-1)\n",
    "    parser.add_argument('--nodes', type=int, default=1)\n",
    "    parser.add_argument('--parallel_mode', type=str, default=\"dp\", choices=['dp', 'ddp', 'ddp2'])\n",
    "    parser.add_argument('--refresh_rate', type=int, default=1)\n",
    "    \n",
    "    parser.add_argument('-f') ##dummy for jupyternotebook\n",
    "    \n",
    "    script_args, _ = parser.parse_known_args(args)    \n",
    "    parser = pl.Trainer.add_argparse_args(parser)\n",
    "    args = parser.parse_args(args)\n",
    "\n",
    "    dm = DataProcessing(args)\n",
    "    dm.setup()\n",
    "\n",
    "    gpus=-1\n",
    "    if NUM_GPUS>0:\n",
    "        gpus=args.num_gpus\n",
    "        print(\"USING GPUS:\", gpus)\n",
    "    else:\n",
    "        gpus=None\n",
    "        \n",
    "    args.checkpoint_callback = False\n",
    "    \n",
    "    trainer = pl.Trainer.from_argparse_args(args, \n",
    "                                            gpus=gpus,\n",
    "                                            num_nodes=args.nodes, \n",
    "                                            accelerator=args.parallel_mode,\n",
    "                                            max_epochs=args.epochs, \n",
    "                                            gradient_clip_val=1.0,                                            \n",
    "                                            logger=False,\n",
    "                                            progress_bar_refresh_rate=args.refresh_rate,\n",
    "                                            profiler=False,\n",
    "                                            default_root_dir=DIR,                                            \n",
    "                                            deterministic=True,\n",
    "                                           )\n",
    "    \n",
    "    return trainer, dm, args"
   ]
  },
  {
   "cell_type": "code",
   "execution_count": 1459,
   "metadata": {},
   "outputs": [
    {
     "name": "stderr",
     "output_type": "stream",
     "text": [
      "Global seed set to 4125460325\n",
      "GPU available: True, used: True\n",
      "TPU available: None, using: 0 TPU cores\n"
     ]
    },
    {
     "name": "stdout",
     "output_type": "stream",
     "text": [
      "USING GPUS: -1\n"
     ]
    }
   ],
   "source": [
    "trainer, dm, args = cli_main()"
   ]
  },
  {
   "cell_type": "code",
   "execution_count": 1460,
   "metadata": {
    "scrolled": true
   },
   "outputs": [
    {
     "name": "stdout",
     "output_type": "stream",
     "text": [
      "VAE(\n",
      "  (encoder): Sequential(\n",
      "    (0): Linear(in_features=2, out_features=128, bias=True)\n",
      "    (1): ReLU()\n",
      "    (2): Linear(in_features=128, out_features=64, bias=True)\n",
      "    (3): ReLU()\n",
      "  )\n",
      "  (fc_mu): Linear(in_features=64, out_features=2, bias=True)\n",
      "  (fc_var): Linear(in_features=64, out_features=2, bias=True)\n",
      "  (decoder): Sequential(\n",
      "    (0): Linear(in_features=2, out_features=128, bias=True)\n",
      "    (1): ReLU()\n",
      "    (2): Linear(in_features=128, out_features=2, bias=True)\n",
      "    (3): Tanh()\n",
      "  )\n",
      ")\n"
     ]
    }
   ],
   "source": [
    "model = VAE(**vars(args))\n",
    "print(model)"
   ]
  },
  {
   "cell_type": "code",
   "execution_count": 1461,
   "metadata": {},
   "outputs": [
    {
     "name": "stderr",
     "output_type": "stream",
     "text": [
      "/home/das90/.conda/envs/cent7/5.3.1-py37/cs690_37/lib/python3.7/site-packages/pytorch_lightning/utilities/distributed.py:51: UserWarning: you defined a validation_step but have no val_dataloader. Skipping validation loop\n",
      "  warnings.warn(*args, **kwargs)\n",
      "Set SLURM handle signals.\n",
      "\n",
      "  | Name    | Type       | Params\n",
      "---------------------------------------\n",
      "0 | encoder | Sequential | 8.6 K \n",
      "1 | fc_mu   | Linear     | 130   \n",
      "2 | fc_var  | Linear     | 130   \n",
      "3 | decoder | Sequential | 642   \n",
      "---------------------------------------\n",
      "9.5 K     Trainable params\n",
      "0         Non-trainable params\n",
      "9.5 K     Total params\n",
      "0.038     Total estimated model params size (MB)\n"
     ]
    },
    {
     "data": {
      "application/vnd.jupyter.widget-view+json": {
       "model_id": "612e13bd48ef44de9276de149cc37b5c",
       "version_major": 2,
       "version_minor": 0
      },
      "text/plain": [
       "HBox(children=(FloatProgress(value=1.0, bar_style='info', description='Validation sanity check', layout=Layout…"
      ]
     },
     "metadata": {},
     "output_type": "display_data"
    },
    {
     "name": "stderr",
     "output_type": "stream",
     "text": [
      "/home/das90/.conda/envs/cent7/5.3.1-py37/cs690_37/lib/python3.7/site-packages/pytorch_lightning/utilities/distributed.py:51: UserWarning: The dataloader, train dataloader, does not have many workers which may be a bottleneck. Consider increasing the value of the `num_workers` argument` (try 24 which is the number of cpus on this machine) in the `DataLoader` init to improve performance.\n",
      "  warnings.warn(*args, **kwargs)\n"
     ]
    },
    {
     "data": {
      "application/vnd.jupyter.widget-view+json": {
       "model_id": "e6b961001830477aa50ae24b5b66fd9c",
       "version_major": 2,
       "version_minor": 0
      },
      "text/plain": [
       "HBox(children=(FloatProgress(value=1.0, bar_style='info', description='Training', layout=Layout(flex='2'), max…"
      ]
     },
     "metadata": {},
     "output_type": "display_data"
    },
    {
     "name": "stdout",
     "output_type": "stream",
     "text": [
      "\n"
     ]
    },
    {
     "data": {
      "text/plain": [
       "1"
      ]
     },
     "execution_count": 1461,
     "metadata": {},
     "output_type": "execute_result"
    }
   ],
   "source": [
    "trainer.fit(model, datamodule=dm)"
   ]
  },
  {
   "cell_type": "code",
   "execution_count": 1462,
   "metadata": {},
   "outputs": [],
   "source": [
    "from sklearn.neighbors import kneighbors_graph\n",
    "import scipy as sp\n",
    "\n",
    "def crossingEdges(X, y, k=5):\n",
    "    A=kneighbors_graph(X, n_neighbors=k, mode='connectivity')\n",
    "    cx = sp.sparse.coo_matrix(A)\n",
    "    \n",
    "    total=0\n",
    "    incorrect=0\n",
    "\n",
    "    for i,j,v in zip(cx.row, cx.col, cx.data):\n",
    "        total+=1\n",
    "        if y[i]!=y[j]:\n",
    "            incorrect+=1\n",
    "    \n",
    "    print(\"Edges: \", total)\n",
    "    print(\"Incorrect: \",incorrect)\n",
    "    \n",
    "#crossingEdges(dm.X, dm.y)"
   ]
  },
  {
   "cell_type": "code",
   "execution_count": 1463,
   "metadata": {},
   "outputs": [],
   "source": [
    "def transformData(model, trainer, dm):\n",
    "    print(\"Before transformation: \")\n",
    "    crossingEdges(dm.X, dm.y)\n",
    "    plotData(dm.X, dm.y)\n",
    "\n",
    "    \n",
    "    print(\"After transformation\")    \n",
    "    X_t=None\n",
    "    with torch.no_grad():\n",
    "        X_t=model.encoder(dm.feature)\n",
    "        \n",
    "        X_embed=X_t\n",
    "        X_embed=X_embed.detach().cpu().numpy()\n",
    "        \n",
    "        print(\"Encoder\")\n",
    "        crossingEdges(X_t, dm.y)\n",
    "        \n",
    "        if (X_t.shape[1]>2):\n",
    "            print(\"Applying TSNE\")\n",
    "            \n",
    "            X_embed = TSNE(n_components=2, perplexity=30).fit_transform(X_embed)\n",
    "        \n",
    "        plotData(X_embed, dm.y)\n",
    "        \n",
    "        \n",
    "        mu = model.fc_mu(X_t)\n",
    "        log_var = model.fc_var(X_t)\n",
    "        p, q, z = model.sample(mu, log_var)        \n",
    "        \n",
    "        X_t=z\n",
    "\n",
    "        X_t=X_t.detach().cpu().numpy()\n",
    "        \n",
    "        print(\"latent\")\n",
    "        crossingEdges(X_t, dm.y)\n",
    "        \n",
    "        if (X_t.shape[1]>2):\n",
    "            print(\"Applying TSNE\")\n",
    "            X_t = TSNE(n_components=2,perplexity=30).fit_transform(X_t)\n",
    "    \n",
    "    \n",
    "    plotData(X_t, dm.y)"
   ]
  },
  {
   "cell_type": "code",
   "execution_count": 1464,
   "metadata": {
    "scrolled": true
   },
   "outputs": [
    {
     "name": "stdout",
     "output_type": "stream",
     "text": [
      "Before transformation: \n",
      "Edges:  500\n",
      "Incorrect:  218\n"
     ]
    },
    {
     "data": {
      "image/png": "[encoded data removed]",
      "text/plain": [
       "<Figure size 432x288 with 1 Axes>"
      ]
     },
     "metadata": {
      "needs_background": "light"
     },
     "output_type": "display_data"
    },
    {
     "name": "stdout",
     "output_type": "stream",
     "text": [
      "After transformation\n",
      "Encoder\n",
      "Edges:  500\n",
      "Incorrect:  132\n",
      "Applying TSNE\n"
     ]
    },
    {
     "data": {
      "image/png": "[encoded data removed]",
      "text/plain": [
       "<Figure size 432x288 with 1 Axes>"
      ]
     },
     "metadata": {
      "needs_background": "light"
     },
     "output_type": "display_data"
    },
    {
     "name": "stdout",
     "output_type": "stream",
     "text": [
      "latent\n",
      "Edges:  500\n",
      "Incorrect:  152\n"
     ]
    },
    {
     "data": {
      "image/png": "[encoded data removed]",
      "text/plain": [
       "<Figure size 432x288 with 1 Axes>"
      ]
     },
     "metadata": {
      "needs_background": "light"
     },
     "output_type": "display_data"
    }
   ],
   "source": [
    "transformData(model, trainer, dm)"
   ]
  },
  {
   "cell_type": "code",
   "execution_count": 1465,
   "metadata": {},
   "outputs": [],
   "source": [
    "if __name__ == \"__main__\":    \n",
    "    None"
   ]
  },
  {
   "cell_type": "code",
   "execution_count": 1466,
   "metadata": {},
   "outputs": [],
   "source": [
    "# class AE(pl.LightningModule):\n",
    "\n",
    "#     def __init__(self, *args, **kwargs):\n",
    "#         super().__init__()\n",
    "\n",
    "#         self.save_hyperparameters()\n",
    "#         #self.latent_dim=self.hparams.latent_dim        \n",
    "        \n",
    "#         self.latent_dim=2\n",
    "        \n",
    "#         self.lr=self.hparams.lr        \n",
    "#         hidden=512\n",
    "\n",
    "#         self.encoder=nn.Sequential(\n",
    "#             nn.Linear(2, hidden),\n",
    "#             nn.Tanh(),\n",
    "#             nn.Linear(hidden, self.latent_dim),\n",
    "#             nn.Tanh(),\n",
    "#         )\n",
    "        \n",
    "#         self.decoder=nn.Sequential(\n",
    "#             nn.Linear(self.latent_dim, hidden),\n",
    "#             nn.Tanh(),\n",
    "#             nn.Linear(hidden, 2),\n",
    "#             nn.Tanh()\n",
    "#         )\n",
    "\n",
    "   \n",
    "#     def forward(self, x):\n",
    "#         x = self.encoder(x)\n",
    "#         x = self.decoder(x)\n",
    "        \n",
    "#         return x\n",
    "\n",
    "#     def step(self, batch, batch_idx):\n",
    "#         x, y = batch        \n",
    "#         x_hat = self(x)\n",
    "\n",
    "#         recon_loss = F.mse_loss(x_hat, x, reduction='mean')\n",
    "\n",
    "#         loss = recon_loss\n",
    "\n",
    "#         logs = {\n",
    "#             \"recon_loss\": recon_loss,            \n",
    "#             \"loss\": loss,\n",
    "#         }\n",
    "#         return loss, logs\n",
    "\n",
    "#     def training_step(self, batch, batch_idx):\n",
    "#         loss, logs = self.step(batch, batch_idx)\n",
    "#         self.log_dict({f\"train_{k}\": v for k, v in logs.items()}, on_step=True, on_epoch=False)\n",
    "#         return loss\n",
    "\n",
    "#     def configure_optimizers(self):\n",
    "#         return torch.optim.Adam(self.parameters(), lr=self.lr)"
   ]
  }
 ],
 "metadata": {
  "kernelspec": {
   "display_name": "Conda cs690_37",
   "language": "python",
   "name": "cs690_37"
  },
  "language_info": {
   "codemirror_mode": {
    "name": "ipython",
    "version": 3
   },
   "file_extension": ".py",
   "mimetype": "text/x-python",
   "name": "python",
   "nbconvert_exporter": "python",
   "pygments_lexer": "ipython3",
   "version": "3.7.6"
  }
 },
 "nbformat": 4,
 "nbformat_minor": 2
}
